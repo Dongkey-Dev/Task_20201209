{
 "cells": [
  {
   "cell_type": "code",
   "execution_count": 284,
   "metadata": {},
   "outputs": [
    {
     "name": "stderr",
     "output_type": "stream",
     "text": [
      "c:\\users\\user\\appdata\\local\\programs\\python\\python37\\lib\\site-packages\\IPython\\core\\interactiveshell.py:3146: DtypeWarning: Columns (5,6,9) have mixed types.Specify dtype option on import or set low_memory=False.\n",
      "  interactivity=interactivity, compiler=compiler, result=result)\n"
     ]
    }
   ],
   "source": [
    "from pprint import pprint as pp\n",
    "from tqdm import tqdm as tq\n",
    "import psycopg2 as pg\n",
    "import psycopg2.extras\n",
    "import pandas as pd\n",
    "import numpy as np\n",
    "import json\n",
    "\n",
    "data_path = 'H:/linewalks/' # 필요한 csv 파일의 경로 설정\n",
    "df_concept = pd.read_csv(data_path + 'concept.csv', encoding = 'utf-8')\n",
    "df_condition_occurrence = pd.read_csv(data_path + 'condition_occurrence.csv', encoding='utf-8')\n",
    "df_death = pd.read_csv(data_path + 'death.csv',encoding='utf-8' )\n",
    "df_drug_exposure = pd.read_csv(data_path + 'drug_exposure.csv', encoding='utf-8')\n",
    "df_person = pd.read_csv(data_path + 'person.csv',encoding='utf-8')\n",
    "df_visit_occurrence = pd.read_csv(data_path + 'visit_occurrence.csv',encoding='utf-8')\n",
    "\n"
   ]
  },
  {
   "cell_type": "code",
   "execution_count": 222,
   "metadata": {},
   "outputs": [],
   "source": [
    "# 로컬의 postgreSql에 연결.\n",
    "conn = pg.connect(host = 'localhost', user='(Username)', password='(password)',port='5432', dbname='(DBName)')\n",
    "cur = conn.cursor()"
   ]
  },
  {
   "cell_type": "code",
   "execution_count": 275,
   "metadata": {},
   "outputs": [],
   "source": [
    "# 각 삽입될 데이블 데이터의 조건에 맞게 table 생성. \n",
    "createPersonQ = \"\"\"\n",
    "    Drop Table If Exists person cascade;\n",
    "    Create Table person (\n",
    "        person_id integer Primary Key,\n",
    "        gender_concept_id integer Not Null,\n",
    "        year_of_birth integer Not Null,\n",
    "        month_of_birth integer Not Null,\n",
    "        day_of_birth integer Not Null,\n",
    "        birth_datetime text,\n",
    "        race_concept_id integer Not Null,\n",
    "        ethnicity_concept_id integer Not Null,\n",
    "        person_source_value text Not Null,\n",
    "        gender_source_value text Not Null,\n",
    "        gender_source_concept_id integer Not Null,\n",
    "        race_source_value text Not Null,\n",
    "        race_source_concept_id integer Not Null,\n",
    "        ethnicity_source_value text Not Null,\n",
    "        ethnicity_source_concept_id integer Not Null\n",
    "    );\n",
    "\"\"\"\n",
    "cur.execute(createPersonQ)\n",
    "\n",
    "createVisitOccurrenceQ = \"\"\"\n",
    "    Drop Table If Exists visit_occurrence cascade;\n",
    "    Create Table visit_occurrence (\n",
    "        visit_occurrence_id integer Primary Key,\n",
    "        person_id integer References person,\n",
    "        visit_concept_id integer Not Null,\n",
    "        visit_start_date text Not Null,\n",
    "        visit_start_datetime text Not Null,\n",
    "        visit_end_date text Not Null,\n",
    "        visit_end_datetime text Not Null,\n",
    "        visit_type_concept_id integer Not Null,\n",
    "        visit_source_value text Not Null,\n",
    "        visit_source_concept_id integer Not Null,\n",
    "        admitting_source_concept_id integer Not Null,\n",
    "        discharge_to_concept_id integer Not Null,\n",
    "        preceding_visit_occurrence_id integer\n",
    "    );\n",
    "\"\"\"\n",
    "cur.execute(createVisitOccurrenceQ)\n",
    "\n",
    "createDeathQ = \"\"\"\n",
    "    Drop Table If Exists death ;\n",
    "    Create Table death (\n",
    "        person_id integer References person,\n",
    "        death_date text Not Null,\n",
    "        death_type_concept_id integer Not Null,\n",
    "        cause_concept_id integer Not Null,\n",
    "        cause_source_value integer Not Null,\n",
    "        cause_source_concept_id integer Not Null,\n",
    "        Primary Key(person_id)\n",
    "    );\n",
    "\"\"\"\n",
    "cur.execute(createDeathQ)\n",
    "\n",
    "createConceptQ = \"\"\"\n",
    "    Drop Table If Exists concept;\n",
    "    Create Table concept (\n",
    "        concept_id integer Not Null,\n",
    "        concept_name text,\n",
    "        domain_id text Not Null,\n",
    "        vocabulary_id text Not Null,\n",
    "        concept_class_id text Not Null,\n",
    "        standard_concept text,\n",
    "        concept_code text,\n",
    "        valid_start_date text Not Null,\n",
    "        valid_end_date text Not Null,\n",
    "        invalid_reason text,\n",
    "        Constraint star_pk Primary Key(concept_id)\n",
    "    );\n",
    "\"\"\"\n",
    "cur.execute(createConceptQ)\n",
    "\n",
    "createConditionOccurrenceQ = \"\"\"\n",
    "    Drop Table If Exists condition_occurrence;\n",
    "    Create Table condition_occurrence (\n",
    "        condition_occurrence_id integer Primary Key,\n",
    "        person_id integer References person,\n",
    "        condition_concept_id integer Not Null,\n",
    "        condition_start_date text Not Null,\n",
    "        condition_start_datetime text Not Null,\n",
    "        condition_end_date text,\n",
    "        condition_end_datetime text,\n",
    "        condition_type_concept_id integer Not Null,\n",
    "        visit_occurrence_id integer References visit_occurrence,\n",
    "        visit_detail_id integer Not Null,\n",
    "        condition_source_value bigint Not Null,\n",
    "        condition_source_concept_id integer Not Null,\n",
    "        condition_status_concept_id integer Not Null\n",
    "        );\n",
    "\"\"\"\n",
    "cur.execute(createConditionOccurrenceQ)\n",
    "\n",
    "createDrugExposureQ = \"\"\"\n",
    "    Drop Table If Exists drug_exposure;\n",
    "    Create Table drug_exposure (\n",
    "        drug_exposure_id integer Primary Key,\n",
    "        person_id integer References person,\n",
    "        drug_concept_id integer Not Null,\n",
    "        drug_exposure_start_date text Not Null,\n",
    "        drug_exposure_start_datetime text Not Null,\n",
    "        drug_exposure_end_date text Not Null,\n",
    "        drug_exposure_end_datetime text Not Null,\n",
    "        verbatim_end_date text,\n",
    "        drug_type_concept_id integer Not Null,\n",
    "        refills integer Not Null,\n",
    "        quantity integer Not Null,\n",
    "        days_supply integer Not Null,\n",
    "        route_concept_id integer Not Null,\n",
    "        lot_number integer Not Null,\n",
    "        provider_id integer Not Null,\n",
    "        visit_occurrence_id integer References visit_occurrence,\n",
    "        visit_detail_id integer Not Null,\n",
    "        drug_source_value integer Not Null,\n",
    "        drug_source_concept_id integer Not Null\n",
    "        );\n",
    "\"\"\"\n",
    "cur.execute(createDrugExposureQ)\n",
    "\n",
    "conn.commit()"
   ]
  },
  {
   "cell_type": "code",
   "execution_count": 100,
   "metadata": {},
   "outputs": [
    {
     "data": {
      "text/html": [
       "<div>\n",
       "<style scoped>\n",
       "    .dataframe tbody tr th:only-of-type {\n",
       "        vertical-align: middle;\n",
       "    }\n",
       "\n",
       "    .dataframe tbody tr th {\n",
       "        vertical-align: top;\n",
       "    }\n",
       "\n",
       "    .dataframe thead th {\n",
       "        text-align: right;\n",
       "    }\n",
       "</style>\n",
       "<table border=\"1\" class=\"dataframe\">\n",
       "  <thead>\n",
       "    <tr style=\"text-align: right;\">\n",
       "      <th></th>\n",
       "      <th>schemaname</th>\n",
       "      <th>tablename</th>\n",
       "      <th>tableowner</th>\n",
       "      <th>tablespace</th>\n",
       "      <th>hasindexes</th>\n",
       "      <th>hasrules</th>\n",
       "      <th>hastriggers</th>\n",
       "      <th>rowsecurity</th>\n",
       "    </tr>\n",
       "  </thead>\n",
       "  <tbody>\n",
       "    <tr>\n",
       "      <th>0</th>\n",
       "      <td>public</td>\n",
       "      <td>death</td>\n",
       "      <td>dongkey</td>\n",
       "      <td>None</td>\n",
       "      <td>True</td>\n",
       "      <td>False</td>\n",
       "      <td>True</td>\n",
       "      <td>False</td>\n",
       "    </tr>\n",
       "    <tr>\n",
       "      <th>1</th>\n",
       "      <td>public</td>\n",
       "      <td>concept</td>\n",
       "      <td>dongkey</td>\n",
       "      <td>None</td>\n",
       "      <td>True</td>\n",
       "      <td>False</td>\n",
       "      <td>False</td>\n",
       "      <td>False</td>\n",
       "    </tr>\n",
       "    <tr>\n",
       "      <th>2</th>\n",
       "      <td>public</td>\n",
       "      <td>person</td>\n",
       "      <td>dongkey</td>\n",
       "      <td>None</td>\n",
       "      <td>True</td>\n",
       "      <td>False</td>\n",
       "      <td>True</td>\n",
       "      <td>False</td>\n",
       "    </tr>\n",
       "    <tr>\n",
       "      <th>3</th>\n",
       "      <td>public</td>\n",
       "      <td>visit_occurrence</td>\n",
       "      <td>dongkey</td>\n",
       "      <td>None</td>\n",
       "      <td>True</td>\n",
       "      <td>False</td>\n",
       "      <td>True</td>\n",
       "      <td>False</td>\n",
       "    </tr>\n",
       "    <tr>\n",
       "      <th>4</th>\n",
       "      <td>public</td>\n",
       "      <td>condition_occurrence</td>\n",
       "      <td>dongkey</td>\n",
       "      <td>None</td>\n",
       "      <td>True</td>\n",
       "      <td>False</td>\n",
       "      <td>True</td>\n",
       "      <td>False</td>\n",
       "    </tr>\n",
       "    <tr>\n",
       "      <th>5</th>\n",
       "      <td>public</td>\n",
       "      <td>drug_exposure</td>\n",
       "      <td>dongkey</td>\n",
       "      <td>None</td>\n",
       "      <td>True</td>\n",
       "      <td>False</td>\n",
       "      <td>True</td>\n",
       "      <td>False</td>\n",
       "    </tr>\n",
       "  </tbody>\n",
       "</table>\n",
       "</div>"
      ],
      "text/plain": [
       "  schemaname             tablename tableowner tablespace  hasindexes  \\\n",
       "0     public                 death    dongkey       None        True   \n",
       "1     public               concept    dongkey       None        True   \n",
       "2     public                person    dongkey       None        True   \n",
       "3     public      visit_occurrence    dongkey       None        True   \n",
       "4     public  condition_occurrence    dongkey       None        True   \n",
       "5     public         drug_exposure    dongkey       None        True   \n",
       "\n",
       "   hasrules  hastriggers  rowsecurity  \n",
       "0     False         True        False  \n",
       "1     False        False        False  \n",
       "2     False         True        False  \n",
       "3     False         True        False  \n",
       "4     False         True        False  \n",
       "5     False         True        False  "
      ]
     },
     "execution_count": 100,
     "metadata": {},
     "output_type": "execute_result"
    }
   ],
   "source": [
    "#테이블 생성이 잘 되었는지 확인. check if the tables is well created.\n",
    "pd.read_sql(\"select * from pg_tables where tableowner = 'dongkey';\", conn)"
   ]
  },
  {
   "cell_type": "code",
   "execution_count": 260,
   "metadata": {},
   "outputs": [],
   "source": [
    "#자주 사용하게될 df와 table을 리스트에 별도로 저장. make list of Dataframe and table\n",
    "df_list = [ 'df_person','df_visit_occurrence','df_concept','df_condition_occurrence','df_death','df_drug_exposure' ]\n",
    "table_list = ['person','visit_occurrence','concept','condition_occurrence','death','drug_exposure']"
   ]
  },
  {
   "cell_type": "code",
   "execution_count": 212,
   "metadata": {},
   "outputs": [],
   "source": [
    "#df에 NaN으로 가득찬 컬럼 (불필요한 컬럼)은 삭제하고, 중간중간에 들어있는 결측값은 None으로 변환. Delete NaN Column (which column's lenght == num of Nan row)\n",
    "for df in df_list : \n",
    "    globals()[f'{df}'] = globals()[f'{df}'].drop(globals()[f'{df}'].columns[globals()[f'{df}'].isnull().sum() == len(globals()[f'{df}'])].to_list(), axis=1)\n",
    "    globals()[f'{df}'] = globals()[f'{df}'].where(pd.notnull(globals()[f'{df}']), None) # Nan convert to None"
   ]
  },
  {
   "cell_type": "code",
   "execution_count": 276,
   "metadata": {},
   "outputs": [
    {
     "name": "stdout",
     "output_type": "stream",
     "text": [
      "Inserting data :  df_person\n",
      "(1000, 15)\n",
      "total data :  1000\n",
      "executing inserting values\n",
      "Inserting data :  df_visit_occurrence\n",
      "(41810, 13)\n",
      "total data :  41810\n",
      "executing inserting values\n",
      "Inserting data :  df_concept\n",
      "(7403692, 10)\n",
      "total data :  7403692\n",
      "executing inserting values\n",
      "Inserting data :  df_condition_occurrence\n",
      "(12167, 13)\n",
      "total data :  12167\n",
      "executing inserting values\n",
      "Inserting data :  df_death\n",
      "(152, 6)\n",
      "total data :  152\n",
      "executing inserting values\n",
      "Inserting data :  df_drug_exposure\n",
      "(46579, 19)\n",
      "total data :  46579\n",
      "executing inserting values\n"
     ]
    }
   ],
   "source": [
    "#전역변수에 선언되어 있는 df(csv)의 데이터들을 table에 저장하는 코드.\n",
    "for i in range(len(df_list)) : # loop for number of tables\n",
    "    print('Preparing data : ' , df_list[i])\n",
    "    print(globals()[f'{df_list[i]}'].shape)\n",
    "    \n",
    "    table = table_list[i]\n",
    "    values = globals()[f'{df_list[i]}'].values.tolist()\n",
    "    \n",
    "    print('total data : ', len(values))\n",
    "    print('executing inserting values\\n')\n",
    "    psycopg2.extras.execute_values(cur, f\"\"\"\n",
    "        Insert Into {table} Values %s;\n",
    "    \"\"\",values)\n",
    "    \n",
    "conn.commit()"
   ]
  },
  {
   "cell_type": "code",
   "execution_count": 277,
   "metadata": {},
   "outputs": [
    {
     "data": {
      "text/html": [
       "<div>\n",
       "<style scoped>\n",
       "    .dataframe tbody tr th:only-of-type {\n",
       "        vertical-align: middle;\n",
       "    }\n",
       "\n",
       "    .dataframe tbody tr th {\n",
       "        vertical-align: top;\n",
       "    }\n",
       "\n",
       "    .dataframe thead th {\n",
       "        text-align: right;\n",
       "    }\n",
       "</style>\n",
       "<table border=\"1\" class=\"dataframe\">\n",
       "  <thead>\n",
       "    <tr style=\"text-align: right;\">\n",
       "      <th></th>\n",
       "      <th>schemaname</th>\n",
       "      <th>relname</th>\n",
       "      <th>n_live_tup</th>\n",
       "    </tr>\n",
       "  </thead>\n",
       "  <tbody>\n",
       "    <tr>\n",
       "      <th>0</th>\n",
       "      <td>public</td>\n",
       "      <td>concept</td>\n",
       "      <td>7403692</td>\n",
       "    </tr>\n",
       "    <tr>\n",
       "      <th>1</th>\n",
       "      <td>public</td>\n",
       "      <td>drug_exposure</td>\n",
       "      <td>46579</td>\n",
       "    </tr>\n",
       "    <tr>\n",
       "      <th>2</th>\n",
       "      <td>public</td>\n",
       "      <td>visit_occurrence</td>\n",
       "      <td>41810</td>\n",
       "    </tr>\n",
       "    <tr>\n",
       "      <th>3</th>\n",
       "      <td>public</td>\n",
       "      <td>condition_occurrence</td>\n",
       "      <td>12167</td>\n",
       "    </tr>\n",
       "    <tr>\n",
       "      <th>4</th>\n",
       "      <td>public</td>\n",
       "      <td>person</td>\n",
       "      <td>1000</td>\n",
       "    </tr>\n",
       "    <tr>\n",
       "      <th>5</th>\n",
       "      <td>public</td>\n",
       "      <td>death</td>\n",
       "      <td>152</td>\n",
       "    </tr>\n",
       "  </tbody>\n",
       "</table>\n",
       "</div>"
      ],
      "text/plain": [
       "  schemaname               relname  n_live_tup\n",
       "0     public               concept     7403692\n",
       "1     public         drug_exposure       46579\n",
       "2     public      visit_occurrence       41810\n",
       "3     public  condition_occurrence       12167\n",
       "4     public                person        1000\n",
       "5     public                 death         152"
      ]
     },
     "execution_count": 277,
     "metadata": {},
     "output_type": "execute_result"
    }
   ],
   "source": [
    "#누락된 값 없이 모두 삽입되었는지 확인. check inserted data\n",
    "pd.read_sql(\"\"\"\n",
    "    SELECT schemaname,relname,n_live_tup \n",
    "        FROM pg_stat_user_tables \n",
    "        ORDER BY n_live_tup DESC;\n",
    "\"\"\",conn)"
   ]
  },
  {
   "cell_type": "code",
   "execution_count": 278,
   "metadata": {},
   "outputs": [
    {
     "data": {
      "text/plain": [
       "(7403692, 10)"
      ]
     },
     "execution_count": 278,
     "metadata": {},
     "output_type": "execute_result"
    }
   ],
   "source": [
    "df_concept.shape"
   ]
  },
  {
   "cell_type": "code",
   "execution_count": 279,
   "metadata": {},
   "outputs": [
    {
     "data": {
      "text/plain": [
       "(46579, 19)"
      ]
     },
     "execution_count": 279,
     "metadata": {},
     "output_type": "execute_result"
    }
   ],
   "source": [
    "df_drug_exposure.shape"
   ]
  },
  {
   "cell_type": "code",
   "execution_count": 280,
   "metadata": {},
   "outputs": [
    {
     "data": {
      "text/plain": [
       "(41810, 13)"
      ]
     },
     "execution_count": 280,
     "metadata": {},
     "output_type": "execute_result"
    }
   ],
   "source": [
    "df_visit_occurrence.shape"
   ]
  },
  {
   "cell_type": "code",
   "execution_count": 281,
   "metadata": {},
   "outputs": [
    {
     "data": {
      "text/plain": [
       "(12167, 13)"
      ]
     },
     "execution_count": 281,
     "metadata": {},
     "output_type": "execute_result"
    }
   ],
   "source": [
    "df_condition_occurrence.shape"
   ]
  },
  {
   "cell_type": "code",
   "execution_count": 282,
   "metadata": {},
   "outputs": [
    {
     "data": {
      "text/plain": [
       "(1000, 15)"
      ]
     },
     "execution_count": 282,
     "metadata": {},
     "output_type": "execute_result"
    }
   ],
   "source": [
    "df_person.shape"
   ]
  },
  {
   "cell_type": "code",
   "execution_count": 283,
   "metadata": {},
   "outputs": [
    {
     "data": {
      "text/plain": [
       "(152, 6)"
      ]
     },
     "execution_count": 283,
     "metadata": {},
     "output_type": "execute_result"
    }
   ],
   "source": [
    "df_death.shape"
   ]
  },
  {
   "cell_type": "markdown",
   "metadata": {},
   "source": [
    "삽입한 데이터 개수와 각 csv파일의 데이터 개수 (row) 비교"
   ]
  },
  {
   "cell_type": "code",
   "execution_count": null,
   "metadata": {},
   "outputs": [],
   "source": []
  }
 ],
 "metadata": {
  "kernelspec": {
   "display_name": "Python 3",
   "language": "python",
   "name": "python3"
  },
  "language_info": {
   "codemirror_mode": {
    "name": "ipython",
    "version": 3
   },
   "file_extension": ".py",
   "mimetype": "text/x-python",
   "name": "python",
   "nbconvert_exporter": "python",
   "pygments_lexer": "ipython3",
   "version": "3.7.3"
  }
 },
 "nbformat": 4,
 "nbformat_minor": 4
}
