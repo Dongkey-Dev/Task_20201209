{
 "cells": [
  {
   "cell_type": "code",
   "execution_count": 251,
   "metadata": {},
   "outputs": [
    {
     "name": "stderr",
     "output_type": "stream",
     "text": [
      "c:\\users\\user\\appdata\\local\\programs\\python\\python37\\lib\\site-packages\\IPython\\core\\interactiveshell.py:3146: DtypeWarning: Columns (5,6,9) have mixed types.Specify dtype option on import or set low_memory=False.\n",
      "  interactivity=interactivity, compiler=compiler, result=result)\n"
     ]
    }
   ],
   "source": [
    "from pprint import pprint as pp\n",
    "from tqdm import tqdm as tq\n",
    "from datetime import date\n",
    "import pandas as pd\n",
    "import numpy as np\n",
    "import json\n",
    "\n",
    "data_path = 'H:/linewalks/' # 필요한 csv 파일의 경로 설정\n",
    "df_concept = pd.read_csv(data_path + 'concept.csv', encoding = 'utf-8')\n",
    "df_condition_occurrence = pd.read_csv(data_path + 'condition_occurrence.csv', encoding='utf-8')\n",
    "df_death = pd.read_csv(data_path + 'death.csv',encoding='utf-8' )\n",
    "df_drug_exposure = pd.read_csv(data_path + 'drug_exposure.csv', encoding='utf-8')\n",
    "df_person = pd.read_csv(data_path + 'person.csv',encoding='utf-8')\n",
    "df_visit_occurrence = pd.read_csv(data_path + 'visit_occurrence.csv',encoding='utf-8')\n",
    "\n",
    "# 내원일수를 계산해주는 함수\n",
    "def calDate_list(de_list,ds_list) :\n",
    "    res = []\n",
    "    for i in range(len(de_list)) :\n",
    "        ds = list(map(int, ds_list[i].split('-')))\n",
    "        de = list(map(int, de_list[i].split('-')))\n",
    "        ds = date(ds[0], ds[1], ds[2])\n",
    "        de = date(de[0], de[1], de[2])\n",
    "        delta = de - ds\n",
    "        res.append(delta.days)\n",
    "    return(res)"
   ]
  },
  {
   "cell_type": "code",
   "execution_count": 253,
   "metadata": {},
   "outputs": [],
   "source": [
    "# 자주 쓰게되는 DataFrame의 Col\n",
    "_p = df_person['person_id']\n",
    "death_p = df_death['person_id']\n",
    "Dead_p = df_person[np.in1d(_p,death_p)]\n",
    "Alive_p = df_person[~np.in1d(_p,death_p)]"
   ]
  },
  {
   "cell_type": "code",
   "execution_count": 499,
   "metadata": {},
   "outputs": [
    {
     "name": "stdout",
     "output_type": "stream",
     "text": [
      "17.763157894736842 %\n"
     ]
    }
   ],
   "source": [
    "# 카테고리 a : 1. 사망자 (152명) 중 2020-3월이 사망날짜인 사람 (27명) (17.76%)\n",
    "print(len([i for i in df_death['death_date'] if str(i).split('-')[0] == '2020' and str(i).split('-')[1] == '03']) / len(death_p) * 100,'%')\n",
    "# 해당 데이터는 사망률과 관련이 없다."
   ]
  },
  {
   "cell_type": "code",
   "execution_count": 627,
   "metadata": {},
   "outputs": [
    {
     "data": {
      "text/html": [
       "<div>\n",
       "<style scoped>\n",
       "    .dataframe tbody tr th:only-of-type {\n",
       "        vertical-align: middle;\n",
       "    }\n",
       "\n",
       "    .dataframe tbody tr th {\n",
       "        vertical-align: top;\n",
       "    }\n",
       "\n",
       "    .dataframe thead th {\n",
       "        text-align: right;\n",
       "    }\n",
       "</style>\n",
       "<table border=\"1\" class=\"dataframe\">\n",
       "  <thead>\n",
       "    <tr style=\"text-align: right;\">\n",
       "      <th></th>\n",
       "      <th>gender</th>\n",
       "      <th>isdead</th>\n",
       "    </tr>\n",
       "  </thead>\n",
       "  <tbody>\n",
       "    <tr>\n",
       "      <th>gender</th>\n",
       "      <td>1.000000</td>\n",
       "      <td>-0.172553</td>\n",
       "    </tr>\n",
       "    <tr>\n",
       "      <th>isdead</th>\n",
       "      <td>-0.172553</td>\n",
       "      <td>1.000000</td>\n",
       "    </tr>\n",
       "  </tbody>\n",
       "</table>\n",
       "</div>"
      ],
      "text/plain": [
       "          gender    isdead\n",
       "gender  1.000000 -0.172553\n",
       "isdead -0.172553  1.000000"
      ]
     },
     "execution_count": 627,
     "metadata": {},
     "output_type": "execute_result"
    }
   ],
   "source": [
    "# 카테고리 b : 1 성별\n",
    "# 사망자 152명과 생존자 848명(랜덤으로 샘플링한 데이터) 의 성별 상관관계\n",
    "alive_gender_S = pd.DataFrame({'gender' : [1 if i==8532 else 0 for i in df_person[~np.in1d(_p, death_p)]['gender_concept_id']],'isdead':[0 for _ in range(len(df_person[~np.in1d(_p,death_p)]))]}).sample(n=len(df_person[np.in1d(_p, death_p)]['gender_concept_id']))\n",
    "dead_gender = pd.DataFrame({'gender' :[1 if i==8532 else 0 for i in df_person[np.in1d(_p, death_p)]['gender_concept_id']], 'isdead' : [1 for _ in range(len(df_person[np.in1d(_p,death_p)]))]})\n",
    "\n",
    "alive_gender_S = alive_gender_S.reset_index().drop(columns=['index'])\n",
    "dead_gender = dead_gender.reset_index().drop(columns=['index'])\n",
    "df_gender = pd.concat([alive_gender_S,dead_gender]).reset_index().drop(columns=['index'])\n",
    "\n",
    "# 상관계수의 절대값이 0.2 이하이므로, 상관관계가 있다고 보기 힘들다\n",
    "df_gender.corr(method='pearson')"
   ]
  },
  {
   "cell_type": "code",
   "execution_count": 629,
   "metadata": {},
   "outputs": [
    {
     "data": {
      "text/html": [
       "<div>\n",
       "<style scoped>\n",
       "    .dataframe tbody tr th:only-of-type {\n",
       "        vertical-align: middle;\n",
       "    }\n",
       "\n",
       "    .dataframe tbody tr th {\n",
       "        vertical-align: top;\n",
       "    }\n",
       "\n",
       "    .dataframe thead th {\n",
       "        text-align: right;\n",
       "    }\n",
       "</style>\n",
       "<table border=\"1\" class=\"dataframe\">\n",
       "  <thead>\n",
       "    <tr style=\"text-align: right;\">\n",
       "      <th></th>\n",
       "      <th>isAsian</th>\n",
       "      <th>isBlack</th>\n",
       "      <th>isWhite</th>\n",
       "      <th>isdead</th>\n",
       "    </tr>\n",
       "  </thead>\n",
       "  <tbody>\n",
       "    <tr>\n",
       "      <th>isAsian</th>\n",
       "      <td>1.000000</td>\n",
       "      <td>-0.080611</td>\n",
       "      <td>-0.611484</td>\n",
       "      <td>0.013589</td>\n",
       "    </tr>\n",
       "    <tr>\n",
       "      <th>isBlack</th>\n",
       "      <td>-0.080611</td>\n",
       "      <td>1.000000</td>\n",
       "      <td>-0.739389</td>\n",
       "      <td>0.011563</td>\n",
       "    </tr>\n",
       "    <tr>\n",
       "      <th>isWhite</th>\n",
       "      <td>-0.611484</td>\n",
       "      <td>-0.739389</td>\n",
       "      <td>1.000000</td>\n",
       "      <td>-0.018359</td>\n",
       "    </tr>\n",
       "    <tr>\n",
       "      <th>isdead</th>\n",
       "      <td>0.013589</td>\n",
       "      <td>0.011563</td>\n",
       "      <td>-0.018359</td>\n",
       "      <td>1.000000</td>\n",
       "    </tr>\n",
       "  </tbody>\n",
       "</table>\n",
       "</div>"
      ],
      "text/plain": [
       "          isAsian   isBlack   isWhite    isdead\n",
       "isAsian  1.000000 -0.080611 -0.611484  0.013589\n",
       "isBlack -0.080611  1.000000 -0.739389  0.011563\n",
       "isWhite -0.611484 -0.739389  1.000000 -0.018359\n",
       "isdead   0.013589  0.011563 -0.018359  1.000000"
      ]
     },
     "execution_count": 629,
     "metadata": {},
     "output_type": "execute_result"
    }
   ],
   "source": [
    "# 카테고리 b : 2 인종\n",
    "# 사망자 152명과 생존자 848명(랜덤으로 샘플링한 데이터) 의 인종 상관관계\n",
    "alive_race_S = pd.DataFrame(\n",
    "    {'isAsian' : [1 if i == 'asian' else 0 for i in df_person[~np.in1d(_p, death_p)]['race_source_value']],\n",
    "     'isBlack' : [1 if i == 'black' else 0 for i in df_person[~np.in1d(_p, death_p)]['race_source_value']],\n",
    "     'isWhite' : [1 if i == 'white' else 0 for i in df_person[~np.in1d(_p, death_p)]['race_source_value']],\n",
    "     'isdead':[0 for _ in range(len(df_person[~np.in1d(_p,death_p)]))]}).sample(n=len(df_person[np.in1d(_p, death_p)]['race_source_value']))\n",
    "dead_race = pd.DataFrame(\n",
    "    {'isAsian' : [1 if i == 'asian' else 0 for i in df_person[np.in1d(_p, death_p)]['race_source_value']],\n",
    "     'isBlack' : [1 if i == 'black' else 0 for i in df_person[np.in1d(_p, death_p)]['race_source_value']],\n",
    "     'isWhite' : [1 if i == 'white' else 0 for i in df_person[np.in1d(_p, death_p)]['race_source_value']],\n",
    "     'isdead' : [1 for _ in range(len(df_person[np.in1d(_p,death_p)]))]})\n",
    "\n",
    "alive_race_S = alive_race_S.reset_index().drop(columns=['index'])\n",
    "dead_race = dead_race.reset_index().drop(columns=['index'])\n",
    "df_race = pd.concat([alive_race_S,dead_race])\n",
    "\n",
    "# 상관계수의 절대값이 0.2 이하이므로, 상관관계가 있다고 보기 힘들다\n",
    "df_race.corr(method='pearson')"
   ]
  },
  {
   "cell_type": "code",
   "execution_count": 626,
   "metadata": {},
   "outputs": [
    {
     "data": {
      "text/html": [
       "<div>\n",
       "<style scoped>\n",
       "    .dataframe tbody tr th:only-of-type {\n",
       "        vertical-align: middle;\n",
       "    }\n",
       "\n",
       "    .dataframe tbody tr th {\n",
       "        vertical-align: top;\n",
       "    }\n",
       "\n",
       "    .dataframe thead th {\n",
       "        text-align: right;\n",
       "    }\n",
       "</style>\n",
       "<table border=\"1\" class=\"dataframe\">\n",
       "  <thead>\n",
       "    <tr style=\"text-align: right;\">\n",
       "      <th></th>\n",
       "      <th>age</th>\n",
       "      <th>isdead</th>\n",
       "    </tr>\n",
       "  </thead>\n",
       "  <tbody>\n",
       "    <tr>\n",
       "      <th>age</th>\n",
       "      <td>1.000000</td>\n",
       "      <td>0.610535</td>\n",
       "    </tr>\n",
       "    <tr>\n",
       "      <th>isdead</th>\n",
       "      <td>0.610535</td>\n",
       "      <td>1.000000</td>\n",
       "    </tr>\n",
       "  </tbody>\n",
       "</table>\n",
       "</div>"
      ],
      "text/plain": [
       "             age    isdead\n",
       "age     1.000000  0.610535\n",
       "isdead  0.610535  1.000000"
      ]
     },
     "execution_count": 626,
     "metadata": {},
     "output_type": "execute_result"
    }
   ],
   "source": [
    "# 카테고리 b : 3 나이\n",
    "# 사망자 152명과 생존자 848명(랜덤으로 샘플링한 데이터) 의 상관관계\n",
    "alive_age_S = pd.DataFrame(\n",
    "    {'age' : [2020 - i for i in df_person[~np.in1d(_p,death_p)]['year_of_birth']],\n",
    "     'isdead':[0 for _ in range(len(df_person[~np.in1d(_p,death_p)]))]}).sample(n=len(df_person[np.in1d(_p,death_p)]['year_of_birth']))\n",
    "dead_age = pd.DataFrame(\n",
    "    {'age' :[2020 - i for i in df_person[np.in1d(_p,death_p)]['year_of_birth']],\n",
    "     'isdead' : [1 for _ in range(len(df_person[np.in1d(_p,death_p)]))]})\n",
    "\n",
    "# 나이 계산은 만나이 에서 생일을 고려하지 않은 나이로 계산\n",
    "\n",
    "alive_age_S = alive_age_S.reset_index().drop(columns=['index'])\n",
    "dead_age = dead_age.reset_index().drop(columns=['index'])\n",
    "df_age = pd.concat([alive_age_S,dead_age])\n",
    "\n",
    "# 0.62로 나오는걸로 봐서 양적 상관관계로 볼 수 있다.\n",
    "df_age.corr(method='pearson')"
   ]
  },
  {
   "cell_type": "code",
   "execution_count": 654,
   "metadata": {},
   "outputs": [
    {
     "data": {
      "text/html": [
       "<div>\n",
       "<style scoped>\n",
       "    .dataframe tbody tr th:only-of-type {\n",
       "        vertical-align: middle;\n",
       "    }\n",
       "\n",
       "    .dataframe tbody tr th {\n",
       "        vertical-align: top;\n",
       "    }\n",
       "\n",
       "    .dataframe thead th {\n",
       "        text-align: right;\n",
       "    }\n",
       "</style>\n",
       "<table border=\"1\" class=\"dataframe\">\n",
       "  <thead>\n",
       "    <tr style=\"text-align: right;\">\n",
       "      <th></th>\n",
       "      <th>입원</th>\n",
       "      <th>외래</th>\n",
       "      <th>응급</th>\n",
       "      <th>isdead</th>\n",
       "    </tr>\n",
       "  </thead>\n",
       "  <tbody>\n",
       "    <tr>\n",
       "      <th>입원</th>\n",
       "      <td>1.000000</td>\n",
       "      <td>-0.537516</td>\n",
       "      <td>-0.064527</td>\n",
       "      <td>0.106883</td>\n",
       "    </tr>\n",
       "    <tr>\n",
       "      <th>외래</th>\n",
       "      <td>-0.537516</td>\n",
       "      <td>1.000000</td>\n",
       "      <td>-0.806812</td>\n",
       "      <td>-0.076808</td>\n",
       "    </tr>\n",
       "    <tr>\n",
       "      <th>응급</th>\n",
       "      <td>-0.064527</td>\n",
       "      <td>-0.806812</td>\n",
       "      <td>1.000000</td>\n",
       "      <td>0.016011</td>\n",
       "    </tr>\n",
       "    <tr>\n",
       "      <th>isdead</th>\n",
       "      <td>0.106883</td>\n",
       "      <td>-0.076808</td>\n",
       "      <td>0.016011</td>\n",
       "      <td>1.000000</td>\n",
       "    </tr>\n",
       "  </tbody>\n",
       "</table>\n",
       "</div>"
      ],
      "text/plain": [
       "              입원        외래        응급    isdead\n",
       "입원      1.000000 -0.537516 -0.064527  0.106883\n",
       "외래     -0.537516  1.000000 -0.806812 -0.076808\n",
       "응급     -0.064527 -0.806812  1.000000  0.016011\n",
       "isdead  0.106883 -0.076808  0.016011  1.000000"
      ]
     },
     "execution_count": 654,
     "metadata": {},
     "output_type": "execute_result"
    }
   ],
   "source": [
    "# 카테고리 c : 1/2/3 입원/외래/응급\n",
    "# 사망자 152명과 생존자 848명(랜덤으로 샘플링한 데이터) 의 인종 상관관계\n",
    "alive_visit_S = pd.DataFrame(\n",
    "    {'입원' : [1 if i == 9201 else 0 for i in df_visit_occurrence[~np.in1d(df_visit_occurrence['person_id'],death_p)]['visit_concept_id']],\n",
    "     '외래' : [1 if i == 9202 else 0 for i in df_visit_occurrence[~np.in1d(df_visit_occurrence['person_id'],death_p)]['visit_concept_id']],\n",
    "     '응급' : [1 if i == 9203 else 0 for i in df_visit_occurrence[~np.in1d(df_visit_occurrence['person_id'],death_p)]['visit_concept_id']],\n",
    "     'isdead':[0 for _ in range(len(df_visit_occurrence[~np.in1d(df_visit_occurrence['person_id'],death_p)]['visit_concept_id']))]}).sample(n=len(df_visit_occurrence[np.in1d(df_visit_occurrence['person_id'],death_p)]['visit_concept_id']))\n",
    "dead_visit = pd.DataFrame(\n",
    "    {'입원' : [1 if i == 9201 else 0 for i in df_visit_occurrence[np.in1d(df_visit_occurrence['person_id'],death_p)]['visit_concept_id']],\n",
    "     '외래' : [1 if i == 9202 else 0 for i in df_visit_occurrence[np.in1d(df_visit_occurrence['person_id'],death_p)]['visit_concept_id']],\n",
    "     '응급' : [1 if i == 9203 else 0 for i in df_visit_occurrence[np.in1d(df_visit_occurrence['person_id'],death_p)]['visit_concept_id']],\n",
    "     'isdead' : [1 for _ in range(len(df_visit_occurrence[np.in1d(df_visit_occurrence['person_id'],death_p)]['visit_concept_id']))]})\n",
    "\n",
    "alive_visit_S = alive_visit_S.reset_index().drop(columns=['index'])\n",
    "dead_visit = dead_visit.reset_index().drop(columns=['index'])\n",
    "df_visit = pd.concat([alive_visit_S,dead_visit])\n",
    "\n",
    "# 상관계수의 절대값이 0.2 이하이므로, 상관관계가 있다고 보기 힘들다\n",
    "df_visit.corr(method='pearson')"
   ]
  },
  {
   "cell_type": "code",
   "execution_count": 658,
   "metadata": {},
   "outputs": [
    {
     "data": {
      "text/html": [
       "<div>\n",
       "<style scoped>\n",
       "    .dataframe tbody tr th:only-of-type {\n",
       "        vertical-align: middle;\n",
       "    }\n",
       "\n",
       "    .dataframe tbody tr th {\n",
       "        vertical-align: top;\n",
       "    }\n",
       "\n",
       "    .dataframe thead th {\n",
       "        text-align: right;\n",
       "    }\n",
       "</style>\n",
       "<table border=\"1\" class=\"dataframe\">\n",
       "  <thead>\n",
       "    <tr style=\"text-align: right;\">\n",
       "      <th></th>\n",
       "      <th>day</th>\n",
       "      <th>isdead</th>\n",
       "    </tr>\n",
       "  </thead>\n",
       "  <tbody>\n",
       "    <tr>\n",
       "      <th>day</th>\n",
       "      <td>1.000000</td>\n",
       "      <td>0.034667</td>\n",
       "    </tr>\n",
       "    <tr>\n",
       "      <th>isdead</th>\n",
       "      <td>0.034667</td>\n",
       "      <td>1.000000</td>\n",
       "    </tr>\n",
       "  </tbody>\n",
       "</table>\n",
       "</div>"
      ],
      "text/plain": [
       "             day    isdead\n",
       "day     1.000000  0.034667\n",
       "isdead  0.034667  1.000000"
      ]
     },
     "execution_count": 658,
     "metadata": {},
     "output_type": "execute_result"
    }
   ],
   "source": [
    "deadPersonVisitEndDateList = df_visit_occurrence[np.in1d(df_visit_occurrence['person_id'], death_p)]['visit_end_date'].tolist()\n",
    "deadPersonVisitStartDateList =  df_visit_occurrence[np.in1d(df_visit_occurrence['person_id'], death_p)]['visit_start_date'].tolist()\n",
    "alivePersonVisitEndDateList = df_visit_occurrence[~np.in1d(df_visit_occurrence['person_id'], death_p)]['visit_end_date'].tolist()\n",
    "alivePersonVisitStartDateList =  df_visit_occurrence[~np.in1d(df_visit_occurrence['person_id'], death_p)]['visit_start_date'].tolist()\n",
    "\n",
    "# 카테고리 c : 4 내원일수\n",
    "# 사망자 152명과 생존자 848명(랜덤으로 샘플링한 데이터) 의 내원일수 상관관계\n",
    "alive_visit_day_S = pd.DataFrame({'day' : [i for i in calDate_list( alivePersonVisitEndDateList , alivePersonVisitStartDateList )],\n",
    "                                  'isdead':[0 for _ in range(len(calDate_list( alivePersonVisitEndDateList , alivePersonVisitStartDateList )))]}).sample(n=len(calDate_list( deadPersonVisitEndDateList , deadPersonVisitStartDateList )))\n",
    "dead_visit_day = pd.DataFrame({'day' :[i for i in calDate_list( deadPersonVisitEndDateList , deadPersonVisitStartDateList )], \n",
    "                               'isdead' : [1 for _ in range(len(calDate_list( deadPersonVisitEndDateList , deadPersonVisitStartDateList )))]})\n",
    "\n",
    "alive_visit_day_S = alive_visit_day_S.reset_index().drop(columns=['index'])\n",
    "dead_visit_day = dead_visit_day.reset_index().drop(columns=['index'])\n",
    "df_visit_day = pd.concat([alive_visit_day_S,dead_visit_day])\n",
    "\n",
    "# 상관계수의 절대값이 0.2 이하이므로, 상관관계가 있다고 보기 힘들다\n",
    "df_visit_day.corr(method='pearson')"
   ]
  },
  {
   "cell_type": "markdown",
   "metadata": {},
   "source": [
    "### 이 아래는 상관계수를 이용하여 구한값이 아닌, 사망자/생존자 대비 변수값의 퍼센티지를 구하는 코드"
   ]
  },
  {
   "cell_type": "code",
   "execution_count": 661,
   "metadata": {},
   "outputs": [
    {
     "name": "stdout",
     "output_type": "stream",
     "text": [
      " 사망자 중, 성별 남성 비율 :  65.13157894736842 %\n",
      " 생존자 중, 성별 남성 비율 :  44.9 %\n"
     ]
    }
   ],
   "source": [
    "# 카테고리 b : 1 사망자(152명) 중 남성(99명) (65.13%)\n",
    "print(' 사망자 중, 성별 남성 비율 : ', df_person[np.in1d(_p, death_p)]['gender_concept_id'].value_counts()[8507] / len(death_p) * 100 ,'%')\n",
    "\n",
    "print(' 생존자 중, 성별 남성 비율 : ', df_person[~np.in1d(_p, death_p)]['gender_concept_id'].value_counts()[8507] / len(_p) * 100 ,'%')"
   ]
  },
  {
   "cell_type": "code",
   "execution_count": 338,
   "metadata": {},
   "outputs": [
    {
     "name": "stdout",
     "output_type": "stream",
     "text": [
      " 사망자 중, 인종 백인 비율 :  84.21052631578947 %\n",
      " 생존자 중, 인종 백인 비율 :  71.7 %\n"
     ]
    }
   ],
   "source": [
    "# 카테고리 b : 2 사망자(152명) 중 남성(99명) (65.13%)\n",
    "print(' 사망자 중, 인종 백인 비율 : ', df_person[np.in1d(_p, death_p)]['race_concept_id'].value_counts()[8527] / len(death_p) * 100 ,'%')\n",
    "\n",
    "print(' 생존자 중, 인종 백인 비율 : ', df_person[~np.in1d(_p, death_p)]['race_concept_id'].value_counts()[8527] / len(_p) * 100 ,'%')"
   ]
  },
  {
   "cell_type": "code",
   "execution_count": 277,
   "metadata": {},
   "outputs": [
    {
     "data": {
      "text/plain": [
       "0    1000\n",
       "Name: ethnicity_concept_id, dtype: int64"
      ]
     },
     "execution_count": 277,
     "metadata": {},
     "output_type": "execute_result"
    }
   ],
   "source": [
    "#민족 컬럼에는 데이터가 없음\n",
    "df_person['ethnicity_concept_id'].value_counts()"
   ]
  },
  {
   "cell_type": "code",
   "execution_count": 292,
   "metadata": {},
   "outputs": [
    {
     "name": "stdout",
     "output_type": "stream",
     "text": [
      " 사망자 중, 나이가 70세 이상인 노인의 비율 :  63.1578947368421\n",
      " 생존자 중, 나이가 70세 이상인 노인의 비율 :  12.971698113207546 %\n"
     ]
    }
   ],
   "source": [
    "# 카테고리 b : 3 사망자 (152명) 중 70세 이상 96명 (63.15%)\n",
    "D_age = pd.Series(sorted([2021 - i for i in df_person[np.in1d(_p,death_p)]['year_of_birth']])).tolist()\n",
    "print(' 사망자 중, 나이가 70세 이상인 노인의 비율 : ',len([i for i in D_age if i > 70]) / len(death_p) * 100 ,'%')\n",
    "# 카테고리 b : 3 생망자 (848명) 중 70세 이상 96명 (12.97%)\n",
    "A_age = pd.Series(sorted([2021 - i for i in df_person[~np.in1d(_p,death_p)]['year_of_birth']])).tolist()\n",
    "print(' 생존자 중, 나이가 70세 이상인 노인의 비율 : ',len([i for i in A_age if i > 70]) / len(Alive_p) * 100 ,'%')"
   ]
  },
  {
   "cell_type": "code",
   "execution_count": 301,
   "metadata": {},
   "outputs": [
    {
     "name": "stdout",
     "output_type": "stream",
     "text": [
      " 사망자 중, 입원 횟수 비율 :  6.246450880181715 %\n",
      " 생존자 중, 입원 횟수 비율 :  2.0771988221738575 %\n"
     ]
    }
   ],
   "source": [
    "# 카테고리 c : 1 사망자 (152명) 의 전체 진료 횟수 중 입원 횟수 \n",
    "dead_person_visit = df_visit_occurrence[np.in1d(df_visit_occurrence['person_id'],death_p)]\n",
    "alive_person_visit = df_visit_occurrence[~np.in1d(df_visit_occurrence['person_id'],death_p)]\n",
    "\n",
    "print(' 사망자 중, 입원 횟수 비율 : ', dead_person_visit['visit_concept_id'].value_counts()[9201] / len(dead_person_visit) * 100,'%')\n",
    "print(' 생존자 중, 입원 횟수 비율 : ', alive_person_visit['visit_concept_id'].value_counts()[9201] / len(alive_person_visit) * 100,'%')"
   ]
  },
  {
   "cell_type": "code",
   "execution_count": 300,
   "metadata": {},
   "outputs": [
    {
     "name": "stdout",
     "output_type": "stream",
     "text": [
      " 사망자 중, 외래 횟수 비율 :  84.46905167518456 %\n",
      " 생존자 중, 외래 횟수 비율 :  89.94046856996543 %\n"
     ]
    }
   ],
   "source": [
    "# 카테고리 c : 2 사망자 (152명) 의 전체 진료 횟수 중 외래 횟수\n",
    "dead_person_visit = df_visit_occurrence[np.in1d(df_visit_occurrence['person_id'],death_p)]\n",
    "alive_person_visit = df_visit_occurrence[~np.in1d(df_visit_occurrence['person_id'],death_p)]\n",
    "\n",
    "print(' 사망자 중, 외래 횟수 비율 : ', dead_person_visit['visit_concept_id'].value_counts()[9202] / len(dead_person_visit) * 100,'%')\n",
    "print(' 생존자 중, 외래 횟수 비율 : ', alive_person_visit['visit_concept_id'].value_counts()[9202] / len(alive_person_visit) * 100,'%')"
   ]
  },
  {
   "cell_type": "code",
   "execution_count": 299,
   "metadata": {},
   "outputs": [
    {
     "name": "stdout",
     "output_type": "stream",
     "text": [
      " 사망자 중, 응급 횟수 비율 :  9.28449744463373 %\n",
      " 생존자 중, 응급 횟수 비율 :  7.982332607860709 %\n"
     ]
    }
   ],
   "source": [
    "# 카테고리 c : 3 사망자 (152명) 의 전체 진료 횟수 중 응급 횟수 \n",
    "dead_person_visit = df_visit_occurrence[np.in1d(df_visit_occurrence['person_id'],death_p)]\n",
    "alive_person_visit = df_visit_occurrence[~np.in1d(df_visit_occurrence['person_id'],death_p)]\n",
    "\n",
    "print(' 사망자 중, 응급 횟수 비율 : ', dead_person_visit['visit_concept_id'].value_counts()[9203] / len(dead_person_visit) * 100,'%')\n",
    "print(' 생존자 중, 응급 횟수 비율 : ', alive_person_visit['visit_concept_id'].value_counts()[9203] / len(alive_person_visit) * 100,'%')"
   ]
  },
  {
   "cell_type": "code",
   "execution_count": 324,
   "metadata": {},
   "outputs": [
    {
     "name": "stdout",
     "output_type": "stream",
     "text": [
      " 사망자 중, concept_id 0 비율 :  9.953584321815368 %\n",
      " 생존자 중, concept_id 0 비율 :  11.136096988658583 %\n",
      " 사망자 중, concept_id 40481087 비율 :  8.45796802475503 %\n",
      " 생존자 중, concept_id 40481087 비율 :  8.672272193977317 %\n"
     ]
    }
   ],
   "source": [
    "# 카테고리 d : 1 사망자 (152명) 의 전체 진단 concept_id\n",
    "dead_person_con = df_condition_occurrence[np.in1d(df_condition_occurrence['person_id'], death_p)]\n",
    "print(' 사망자 중, concept_id 0 비율 : ', dead_person_con['condition_concept_id'].value_counts()[0] / len(dead_person_con) * 100,'%')\n",
    "print(' 사망자 중, concept_id 40481087 비율 : ', dead_person_con['condition_concept_id'].value_counts()[40481087] / len(dead_person_con) * 100,'%')\n",
    "\n",
    "# 카테고리 d : 1 생존자 (848명) 의 전체 진단 concept_id\n",
    "alive_person_con = df_condition_occurrence[~np.in1d(df_condition_occurrence['person_id'], death_p)]\n",
    "print(' 생존자 중, concept_id 0 비율 : ', alive_person_con['condition_concept_id'].value_counts()[0] / len(alive_person_con) * 100,'%')\n",
    "print(' 생존자 중, concept_id 40481087 비율 : ', alive_person_con['condition_concept_id'].value_counts()[40481087] / len(alive_person_con) * 100,'%')"
   ]
  },
  {
   "cell_type": "code",
   "execution_count": 329,
   "metadata": {},
   "outputs": [
    {
     "name": "stdout",
     "output_type": "stream",
     "text": [
      " 사망자 중, condition_source_value 444814009 비율 :  8.45796802475503 %\n",
      " 생존자 중, condition_source_value 444814009 비율 :  8.672272193977317 %\n"
     ]
    }
   ],
   "source": [
    "# 카테고리 d : 1 사망자 (152명) 의 진단 source_value\n",
    "dead_person_con = df_condition_occurrence[np.in1d(df_condition_occurrence['person_id'], death_p)]\n",
    "alive_person_con = df_condition_occurrence[~np.in1d(df_condition_occurrence['person_id'], death_p)]\n",
    "print(' 사망자 중, condition_source_value 444814009 비율 : ', dead_person_con['condition_source_value'].value_counts()[444814009] / len(dead_person_con) * 100,'%')\n",
    "print(' 생존자 중, condition_source_value 444814009 비율 : ', alive_person_con['condition_source_value'].value_counts()[444814009] / len(alive_person_con) * 100,'%')"
   ]
  },
  {
   "cell_type": "code",
   "execution_count": 336,
   "metadata": {},
   "outputs": [
    {
     "name": "stdout",
     "output_type": "stream",
     "text": [
      " 사망자 중, 의약품 444814009(Influenza, seasonal..) 비율 :  9.71457185778668 %\n",
      " 생존자 중, 의약품 444814009(Influenza, seasonal..) 비율 :  20.420245398773005 %\n",
      " 사망자 중, 의약품 19078106(hydrochlorothiazide 25..) 비율 :  9.285356606338079 %\n",
      " 생존자 중, 의약품 19078106(hydrochlorothiazide 25..) 비율 :  7.273006134969324 %\n"
     ]
    }
   ],
   "source": [
    "# 카테고리 e : 1 사망자 (152명) 의 전체 진단 횟수 중 외래 진료 횟수 (63.15%) 총 진료 횟수 : 10566 \n",
    "dead_drug_exposure = df_drug_exposure[np.in1d(df_drug_exposure['person_id'], death_p)]\n",
    "alive_drug_exposure = df_drug_exposure[~np.in1d(df_drug_exposure['person_id'], death_p)]\n",
    "print(' 사망자 중, 의약품 444814009(Influenza, seasonal..) 비율 : ', dead_drug_exposure['drug_concept_id'].value_counts()[40213154] / len(dead_drug_exposure) * 100,'%')\n",
    "print(' 생존자 중, 의약품 444814009(Influenza, seasonal..) 비율 : ', alive_drug_exposure['drug_concept_id'].value_counts()[40213154] / len(alive_drug_exposure) * 100,'%')\n",
    "#40213154    19078106    \n",
    "print(' 사망자 중, 의약품 19078106(hydrochlorothiazide 25..) 비율 : ', dead_drug_exposure['drug_concept_id'].value_counts()[19078106] / len(dead_drug_exposure) * 100,'%')\n",
    "print(' 생존자 중, 의약품 19078106(hydrochlorothiazide 25..) 비율 : ', alive_drug_exposure['drug_concept_id'].value_counts()[19078106] / len(alive_drug_exposure) * 100,'%')"
   ]
  },
  {
   "cell_type": "markdown",
   "metadata": {},
   "source": [
    "### 사망률과 연관성이 높은 변수 순서 : b. 3(나이) > e. 1(의약품) > c. 1,2,3,4 = b.1,2 . (a. 1 사망일은 사망률과 관련이 없는 데이터) . \n",
    "#### 나이를 제외하곤 상관관계를 보이는 변수는 없는것으로 보입니다."
   ]
  },
  {
   "cell_type": "code",
   "execution_count": null,
   "metadata": {},
   "outputs": [],
   "source": []
  }
 ],
 "metadata": {
  "kernelspec": {
   "display_name": "Python 3",
   "language": "python",
   "name": "python3"
  },
  "language_info": {
   "codemirror_mode": {
    "name": "ipython",
    "version": 3
   },
   "file_extension": ".py",
   "mimetype": "text/x-python",
   "name": "python",
   "nbconvert_exporter": "python",
   "pygments_lexer": "ipython3",
   "version": "3.7.3"
  }
 },
 "nbformat": 4,
 "nbformat_minor": 4
}
